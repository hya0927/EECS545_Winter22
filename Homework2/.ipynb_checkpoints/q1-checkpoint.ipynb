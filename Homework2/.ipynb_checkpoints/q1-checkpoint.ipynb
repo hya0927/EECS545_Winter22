{
 "cells": [
  {
   "cell_type": "code",
   "execution_count": 14,
   "id": "d445410f",
   "metadata": {},
   "outputs": [
    {
     "name": "stdout",
     "output_type": "stream",
     "text": [
      "part b ==============================\n",
      "the coefficients w:\n",
      " w1 =  0.7317006149992293 \n",
      " w0 =  2.1541024163094216 \n",
      "\n",
      "part c ==============================\n"
     ]
    },
    {
     "data": {
      "image/png": "[encoded data removed]",
      "text/plain": [
       "<Figure size 432x288 with 1 Axes>"
      ]
     },
     "metadata": {
      "needs_background": "light"
     },
     "output_type": "display_data"
    }
   ],
   "source": [
    "import numpy as np\n",
    "import math\n",
    "import matplotlib.pyplot as plt\n",
    "\n",
    "def sigmoid(x):\n",
    "    return 1/(1 + math.exp(-x))\n",
    "\n",
    "def get_h(W,PHI):\n",
    "    N = PHI.shape[0]\n",
    "    h = np.zeros((N,1))\n",
    "    for i in range(N):\n",
    "        h[i] = sigmoid(np.dot((W.T), PHI[i,:]))\n",
    "    return h\n",
    "\n",
    "def get_R(h):\n",
    "    N = h.shape[0]\n",
    "    R = np.zeros((N,N))\n",
    "    for i in range(N):\n",
    "        R[i,i] = h[i]*(1 - h[i])\n",
    "    return R\n",
    "\n",
    "def get_W(PHI, W, y):\n",
    "    h = get_h(W,PHI)\n",
    "    R = get_R(h)\n",
    "    z = np.dot(PHI, W) - np.dot(np.linalg.inv(R),(h - y))\n",
    "    C = np.dot(PHI.T, R)\n",
    "    C_1 = np.dot(C, PHI)\n",
    "    W = np.dot(np.linalg.inv(C_1),(PHI.T))\n",
    "    W = np.dot(W, R)\n",
    "    W = np.dot(W, z)\n",
    "    return W\n",
    "\n",
    "\n",
    "def main():\n",
    "    # We format the data matrix so that each row is the feature for one sample.\n",
    "    # The number of rows is the number of data samples.\n",
    "    # The number of columns is the dimension of one data sample.\n",
    "    X = np.load('./hw2/q1x.npy')\n",
    "    N = X.shape[0]\n",
    "    Y = np.load('./hw2/q1y.npy')\n",
    "    Y = np.reshape(Y,(99,1))\n",
    "    # To consider intercept term, we append a column vector with all entries=1.\n",
    "    # Then the coefficient correpsonding to this column is an intercept term.\n",
    "    PHI = np.concatenate((np.ones((N, 1)), X), axis=1)\n",
    "    M = PHI.shape[1]\n",
    "    W = np.zeros((M, 1))\n",
    "    h = get_h(W, PHI)\n",
    "    R = get_R(h)\n",
    "    iter = 200\n",
    "    for i in range(iter):\n",
    "        W = get_W(PHI, W, Y)\n",
    "    \n",
    "    w1 = -W[1,0]/W[2,0]\n",
    "    w0 = - W[0,0]/W[2,0]\n",
    "    print('part b ==============================')\n",
    "    print('the coefficients w:\\n', 'w1 = ',w1, '\\n','w0 = ',w0,'\\n')\n",
    "    \n",
    "    print('part c ==============================')\n",
    "    plt.scatter(X[0:50,0],X[0:50,1], label='label = 0')\n",
    "    plt.scatter(X[50:99,0],X[50:99,1], label='label = 1')\n",
    "    x1 = np.arange(-4,8,1)\n",
    "    x2 = -(W[1,0]/W[2,0])*x1 - W[0,0]/W[2,0]\n",
    "    plt.plot(x1, x2,'r')\n",
    "    plt.xlabel('x1')\n",
    "    plt.ylabel('x2')\n",
    "    plt.legend()\n",
    "    plt.savefig('hw2_q1_c.png')\n",
    "if __name__ == \"__main__\":\n",
    "    main()"
   ]
  },
  {
   "cell_type": "code",
   "execution_count": null,
   "id": "50fc1178",
   "metadata": {},
   "outputs": [],
   "source": []
  },
  {
   "cell_type": "code",
   "execution_count": null,
   "id": "edcda376",
   "metadata": {},
   "outputs": [],
   "source": []
  }
 ],
 "metadata": {
  "kernelspec": {
   "display_name": "Python 3 (ipykernel)",
   "language": "python",
   "name": "python3"
  },
  "language_info": {
   "codemirror_mode": {
    "name": "ipython",
    "version": 3
   },
   "file_extension": ".py",
   "mimetype": "text/x-python",
   "name": "python",
   "nbconvert_exporter": "python",
   "pygments_lexer": "ipython3",
   "version": "3.9.7"
  }
 },
 "nbformat": 4,
 "nbformat_minor": 5
}
