{
 "cells": [
  {
   "cell_type": "code",
   "execution_count": 1,
   "id": "dcf08b25",
   "metadata": {},
   "outputs": [],
   "source": [
    "%matplotlib inline\n",
    "from __future__ import division\n",
    "import numpy as np\n",
    "import matplotlib.pyplot as plt\n",
    "import seaborn as sns\n",
    "import pandas as pd"
   ]
  },
  {
   "cell_type": "code",
   "execution_count": 2,
   "id": "60d6b2ce",
   "metadata": {},
   "outputs": [],
   "source": [
    "def readMatrix(file):\n",
    "    fd = open(file, 'r')\n",
    "    hdr = fd.readline()\n",
    "    rows, cols = [int(s) for s in fd.readline().strip().split()]\n",
    "    tokens = fd.readline().strip().split()\n",
    "    matrix = np.zeros((rows, cols))\n",
    "    Y = []\n",
    "    for i, line in enumerate(fd):\n",
    "        nums = [int(x) for x in line.strip().split()]\n",
    "        Y.append(nums[0])\n",
    "        kv = np.array(nums[1:])\n",
    "        k = np.cumsum(kv[:-1:2])\n",
    "        v = kv[1::2]\n",
    "        matrix[i, k] = v\n",
    "    return matrix, tokens, np.array(Y)"
   ]
  },
  {
   "cell_type": "code",
   "execution_count": 7,
   "id": "da46e79a",
   "metadata": {},
   "outputs": [],
   "source": [
    "def evaluate(output, label):\n",
    "    error = (output != label).sum() * 1. / len(output)\n",
    "    print('Error: %1.4f' % error)\n",
    "    return error\n",
    "\n",
    "def main():\n",
    "    trainMatrix, tokenlist, trainCategory = readMatrix('./hw2/q4_data/MATRIX.TRAIN')\n",
    "    testMatrix, tokenlist, testCategory = readMatrix('./hw2/q4_data/MATRIX.TEST')\n",
    "\n",
    "    state = nb_train(trainMatrix, trainCategory)\n",
    "    output = nb_test(testMatrix, state)\n",
    "\n",
    "    evaluate(output, testCategory)\n",
    "    return"
   ]
  },
  {
   "cell_type": "code",
   "execution_count": 8,
   "id": "3d64b772",
   "metadata": {},
   "outputs": [],
   "source": [
    "trainMatrix, tokenlist, trainCategory = readMatrix('./hw2/q4_data/MATRIX.TRAIN')\n",
    "testMatrix, tokenlist, testCategory = readMatrix('./hw2/q4_data/MATRIX.TEST')"
   ]
  },
  {
   "cell_type": "code",
   "execution_count": 9,
   "id": "457097a0",
   "metadata": {},
   "outputs": [],
   "source": [
    "def nb_train(matrix, category):\n",
    "    state = {}\n",
    "    N = matrix.shape[1]\n",
    "    ###################\n",
    "    \n",
    "    spam = matrix[category == 1, :]\n",
    "    nospam = matrix[category == 0, :]\n",
    "\n",
    "    spam_lengths = spam.sum(axis = 1)\n",
    "    nospam_lengths = spam.sum(axis = 1)\n",
    "\n",
    "    state['phi_spam'] = (spam.sum(axis = 0) + 1) / (np.sum(spam_lengths) + N)\n",
    "    state['phi_nospam'] = (nospam.sum(axis = 0) + 1) / (np.sum(nospam_lengths) + N)\n",
    "    state['phi'] = spam.shape[0]/(spam.shape[0]+nospam.shape[0])\n",
    "    ###################\n",
    "    return state"
   ]
  },
  {
   "cell_type": "code",
   "execution_count": 10,
   "id": "ad06bdf6",
   "metadata": {},
   "outputs": [],
   "source": [
    "def nb_test(matrix, state):\n",
    "    output = np.zeros(matrix.shape[0])\n",
    "    ###################\n",
    "    log_phi_spam = np.sum( np.log(state['phi_spam'])*matrix, axis = 1)\n",
    "    log_phi_nospam = np.sum( np.log(state['phi_nospam'])*matrix, axis = 1)\n",
    "    phi = state['phi']\n",
    "    \n",
    "    ratio = np.exp(log_phi_nospam + np.log(1 - phi) - log_phi_spam - np.log(phi))\n",
    "    probs = 1 / (1 + ratio)\n",
    "    \n",
    "    output[probs > 0.5] = 1\n",
    "    \n",
    "    ###################\n",
    "    return output"
   ]
  },
  {
   "cell_type": "code",
   "execution_count": 11,
   "id": "90d6dcbe",
   "metadata": {},
   "outputs": [],
   "source": [
    "trainMatrix, tokenlist, trainCategory = readMatrix('./hw2/q4_data/MATRIX.TRAIN')"
   ]
  },
  {
   "cell_type": "code",
   "execution_count": 12,
   "id": "8cbcb169",
   "metadata": {},
   "outputs": [],
   "source": [
    "tokenlist = np.array(tokenlist)\n",
    "state = nb_train(trainMatrix, trainCategory)"
   ]
  },
  {
   "cell_type": "code",
   "execution_count": 13,
   "id": "2e972343",
   "metadata": {},
   "outputs": [],
   "source": [
    "likely_spam_tokens = np.argsort(state['phi_spam']/state['phi_nospam'])[-5:]"
   ]
  },
  {
   "cell_type": "code",
   "execution_count": 14,
   "id": "8b604df3",
   "metadata": {},
   "outputs": [
    {
     "data": {
      "text/plain": [
       "array([1368,  393, 1356, 1209,  615])"
      ]
     },
     "execution_count": 14,
     "metadata": {},
     "output_type": "execute_result"
    }
   ],
   "source": [
    "likely_spam_tokens"
   ]
  },
  {
   "cell_type": "code",
   "execution_count": 15,
   "id": "6ea395cb",
   "metadata": {},
   "outputs": [
    {
     "data": {
      "text/plain": [
       "array(['valet', 'ebai', 'unsubscrib', 'spam', 'httpaddr'], dtype='<U16')"
      ]
     },
     "execution_count": 15,
     "metadata": {},
     "output_type": "execute_result"
    }
   ],
   "source": [
    "tokenlist[likely_spam_tokens]"
   ]
  },
  {
   "cell_type": "code",
   "execution_count": 16,
   "id": "8fea8a6a",
   "metadata": {},
   "outputs": [],
   "source": [
    "train_sizes = np.array([50, 100, 200, 400, 800, 1400])"
   ]
  },
  {
   "cell_type": "code",
   "execution_count": 17,
   "id": "85d5e2d7",
   "metadata": {},
   "outputs": [
    {
     "name": "stdout",
     "output_type": "stream",
     "text": [
      "Error: 0.4238\n",
      "Error: 0.3275\n",
      "Error: 0.1963\n",
      "Error: 0.0788\n",
      "Error: 0.0537\n",
      "Error: 0.0488\n"
     ]
    }
   ],
   "source": [
    "errors = np.ones(train_sizes.shape)\n",
    "for i,train_size in enumerate(train_sizes):\n",
    "    trainMatrix, tokenlist, trainCategory = readMatrix('./hw2/q4_data/MATRIX.TRAIN.'+str(train_size))\n",
    "    state = nb_train(trainMatrix, trainCategory)\n",
    "    output = nb_test(testMatrix, state)\n",
    "    errors[i] = evaluate(output, testCategory)"
   ]
  },
  {
   "cell_type": "code",
   "execution_count": 18,
   "id": "10b38fc9",
   "metadata": {},
   "outputs": [
    {
     "data": {
      "image/png": "[encoded data removed]",
      "text/plain": [
       "<Figure size 432x288 with 1 Axes>"
      ]
     },
     "metadata": {
      "needs_background": "light"
     },
     "output_type": "display_data"
    }
   ],
   "source": [
    "plt.plot(train_sizes,errors*100);\n",
    "plt.xlabel('Training Size');\n",
    "plt.ylabel('Test Error (%)');"
   ]
  },
  {
   "cell_type": "code",
   "execution_count": 20,
   "id": "28d76ea7",
   "metadata": {},
   "outputs": [],
   "source": [
    "import svm"
   ]
  },
  {
   "cell_type": "code",
   "execution_count": 21,
   "id": "4b9c5ff1",
   "metadata": {},
   "outputs": [
    {
     "ename": "AttributeError",
     "evalue": "module 'svm' has no attribute 'svm_readMatrix'",
     "output_type": "error",
     "traceback": [
      "\u001b[0;31m---------------------------------------------------------------------------\u001b[0m",
      "\u001b[0;31mAttributeError\u001b[0m                            Traceback (most recent call last)",
      "\u001b[0;32m/var/folders/g3/p4vz_gvj32nb9tfhf088wv180000gn/T/ipykernel_29052/58373895.py\u001b[0m in \u001b[0;36m<module>\u001b[0;34m\u001b[0m\n\u001b[1;32m      1\u001b[0m \u001b[0merrors_svm\u001b[0m \u001b[0;34m=\u001b[0m \u001b[0mnp\u001b[0m\u001b[0;34m.\u001b[0m\u001b[0mones\u001b[0m\u001b[0;34m(\u001b[0m\u001b[0mtrain_sizes\u001b[0m\u001b[0;34m.\u001b[0m\u001b[0mshape\u001b[0m\u001b[0;34m)\u001b[0m\u001b[0;34m\u001b[0m\u001b[0;34m\u001b[0m\u001b[0m\n\u001b[0;32m----> 2\u001b[0;31m \u001b[0mtestMatrix\u001b[0m\u001b[0;34m,\u001b[0m \u001b[0mtokenlist\u001b[0m\u001b[0;34m,\u001b[0m \u001b[0mtestCategory\u001b[0m \u001b[0;34m=\u001b[0m \u001b[0msvm\u001b[0m\u001b[0;34m.\u001b[0m\u001b[0msvm_readMatrix\u001b[0m\u001b[0;34m(\u001b[0m\u001b[0;34m'./hw2/q4_data/MATRIX.TEST'\u001b[0m\u001b[0;34m)\u001b[0m\u001b[0;34m\u001b[0m\u001b[0;34m\u001b[0m\u001b[0m\n\u001b[0m\u001b[1;32m      3\u001b[0m \u001b[0;32mfor\u001b[0m \u001b[0mi\u001b[0m\u001b[0;34m,\u001b[0m\u001b[0mtrain_size\u001b[0m \u001b[0;32min\u001b[0m \u001b[0menumerate\u001b[0m\u001b[0;34m(\u001b[0m\u001b[0mtrain_sizes\u001b[0m\u001b[0;34m)\u001b[0m\u001b[0;34m:\u001b[0m\u001b[0;34m\u001b[0m\u001b[0;34m\u001b[0m\u001b[0m\n\u001b[1;32m      4\u001b[0m     \u001b[0mtrainMatrix\u001b[0m\u001b[0;34m,\u001b[0m \u001b[0mtokenlist\u001b[0m\u001b[0;34m,\u001b[0m \u001b[0mtrainCategory\u001b[0m \u001b[0;34m=\u001b[0m \u001b[0msvm\u001b[0m\u001b[0;34m.\u001b[0m\u001b[0msvm_readMatrix\u001b[0m\u001b[0;34m(\u001b[0m\u001b[0;34m'./hw2/q4_data/MATRIX.TRAIN.'\u001b[0m\u001b[0;34m+\u001b[0m\u001b[0mstr\u001b[0m\u001b[0;34m(\u001b[0m\u001b[0mtrain_size\u001b[0m\u001b[0;34m)\u001b[0m\u001b[0;34m)\u001b[0m\u001b[0;34m\u001b[0m\u001b[0;34m\u001b[0m\u001b[0m\n\u001b[1;32m      5\u001b[0m     \u001b[0mstate\u001b[0m \u001b[0;34m=\u001b[0m \u001b[0msvm\u001b[0m\u001b[0;34m.\u001b[0m\u001b[0msvm_train\u001b[0m\u001b[0;34m(\u001b[0m\u001b[0mtrainMatrix\u001b[0m\u001b[0;34m,\u001b[0m \u001b[0mtrainCategory\u001b[0m\u001b[0;34m)\u001b[0m\u001b[0;34m\u001b[0m\u001b[0;34m\u001b[0m\u001b[0m\n",
      "\u001b[0;31mAttributeError\u001b[0m: module 'svm' has no attribute 'svm_readMatrix'"
     ]
    }
   ],
   "source": [
    "errors_svm = np.ones(train_sizes.shape)\n",
    "testMatrix, tokenlist, testCategory = svm.svm_readMatrix('./hw2/q4_data/MATRIX.TEST')\n",
    "for i,train_size in enumerate(train_sizes):\n",
    "    trainMatrix, tokenlist, trainCategory = svm.svm_readMatrix('./hw2/q4_data/MATRIX.TRAIN.'+str(train_size))\n",
    "    state = svm.svm_train(trainMatrix, trainCategory)\n",
    "    output = svm.svm_test(testMatrix, state)\n",
    "    errors_svm[i] = svm.svm_evaluate(output, testCategory)"
   ]
  },
  {
   "cell_type": "code",
   "execution_count": null,
   "id": "0e0505c5",
   "metadata": {},
   "outputs": [],
   "source": []
  }
 ],
 "metadata": {
  "kernelspec": {
   "display_name": "Python 3 (ipykernel)",
   "language": "python",
   "name": "python3"
  },
  "language_info": {
   "codemirror_mode": {
    "name": "ipython",
    "version": 3
   },
   "file_extension": ".py",
   "mimetype": "text/x-python",
   "name": "python",
   "nbconvert_exporter": "python",
   "pygments_lexer": "ipython3",
   "version": "3.9.7"
  }
 },
 "nbformat": 4,
 "nbformat_minor": 5
}
