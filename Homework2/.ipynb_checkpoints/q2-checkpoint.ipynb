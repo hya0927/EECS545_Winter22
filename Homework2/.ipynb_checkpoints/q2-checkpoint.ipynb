{
 "cells": [
  {
   "cell_type": "code",
   "execution_count": 9,
   "id": "66ce404d",
   "metadata": {},
   "outputs": [
    {
     "name": "stdout",
     "output_type": "stream",
     "text": [
      "the accuracy of the predictions from sklearn's LogisticRegression: 0.92\n",
      "the accuracy of the predictions from my model: 0.98\n"
     ]
    },
    {
     "name": "stderr",
     "output_type": "stream",
     "text": [
      "/Users/huangyuang/opt/anaconda3/lib/python3.9/site-packages/sklearn/utils/validation.py:63: DataConversionWarning: A column-vector y was passed when a 1d array was expected. Please change the shape of y to (n_samples, ), for example using ravel().\n",
      "  return f(*args, **kwargs)\n",
      "/Users/huangyuang/opt/anaconda3/lib/python3.9/site-packages/sklearn/linear_model/_logistic.py:763: ConvergenceWarning: lbfgs failed to converge (status=1):\n",
      "STOP: TOTAL NO. of ITERATIONS REACHED LIMIT.\n",
      "\n",
      "Increase the number of iterations (max_iter) or scale the data as shown in:\n",
      "    https://scikit-learn.org/stable/modules/preprocessing.html\n",
      "Please also refer to the documentation for alternative solver options:\n",
      "    https://scikit-learn.org/stable/modules/linear_model.html#logistic-regression\n",
      "  n_iter_i = _check_optimize_result(\n"
     ]
    }
   ],
   "source": [
    "import numpy as np\n",
    "import math\n",
    "import matplotlib.pyplot as plt\n",
    "from sklearn.linear_model import LogisticRegression\n",
    "from sklearn.metrics import accuracy_score\n",
    "\n",
    "def get_P(W,PHI,inx,order):\n",
    "    K = W.shape[1]\n",
    "    M = W.shape[0]\n",
    "    temp = np.dot(PHI[order,:], W)\n",
    "    #print(temp)\n",
    "    sum = 0\n",
    "    for j in range(K-1):\n",
    "        sum = sum + math.exp(temp[j])\n",
    "    if inx == K:\n",
    "        sum = 1/(1 + sum)\n",
    "    else:\n",
    "        sum = math.exp(temp[inx-1])/(1 + sum)\n",
    "    return sum\n",
    "\n",
    "def gradient_ascent(PHI, Y, W):\n",
    "    WWW = np.zeros(W.shape)\n",
    "    K = W.shape[1]\n",
    "    M = W.shape[0]\n",
    "    N = PHI.shape[0]\n",
    "    for inx in range(1, K+1):\n",
    "        sum = 0\n",
    "        for j in range(N):\n",
    "            sum = sum + PHI[[j],:] * ((Y[j,0] == inx) - get_P(W, PHI, inx, j))\n",
    "        #print(sum)\n",
    "        WWW[:, [inx-1]] = sum.T\n",
    "    return WWW\n",
    "\n",
    "\n",
    "def predict(W,PHI):\n",
    "    Y_predict = np.zeros((PHI.shape[0],1))\n",
    "    chance = np.zeros((50,3))\n",
    "    for inx in range(1,4):\n",
    "        for order in range(50):\n",
    "            chance[order,inx-1] = get_P(W,PHI,inx,order)\n",
    "    for i in range(PHI.shape[0]):\n",
    "        Y_predict[[i],0] = np.argmax(chance[[i],:], axis = 1) + 1\n",
    "    #print(chance)\n",
    "    return Y_predict\n",
    "\n",
    "\n",
    "def main():\n",
    "    q2_data = np.load('./hw2/q2_data.npz')\n",
    "    X_train = q2_data['q2x_train']\n",
    "    Y_train = q2_data['q2y_train']\n",
    "    X_test = q2_data['q2x_test']\n",
    "    Y_test = q2_data['q2y_test']\n",
    "\n",
    "    alpha = 0.0005\n",
    "    K = 3\n",
    "    N_train = X_train.shape[0]\n",
    "    PHI_train = PHI = np.concatenate((np.ones((N_train, 1)), X_train), axis=1)\n",
    "    M_train = PHI_train.shape[1]\n",
    "    N_test = X_test.shape[0]\n",
    "    PHI_test = PHI = np.concatenate((np.ones((N_test, 1)), X_test), axis=1)\n",
    "    M_test = PHI_test.shape[1]\n",
    "\n",
    "\n",
    "    iter = 500\n",
    "    np.random.seed(0)\n",
    "    W = np.random.random((M_train,K))\n",
    "    for i in range(iter):\n",
    "        W = W + alpha*gradient_ascent(PHI_train, Y_train, W)\n",
    "\n",
    "    Y_predict = predict(W,PHI_test)\n",
    "    LR = LogisticRegression()\n",
    "    LR.fit(PHI_train,Y_train)\n",
    "    predict_results=LR.predict(PHI_test)\n",
    "    #print(predict_results)\n",
    "    from sklearn.metrics import accuracy_score\n",
    "    print('the accuracy of the predictions from sklearn\\'s LogisticRegression:',accuracy_score(predict_results, Y_test))\n",
    "\n",
    "    print('the accuracy of the predictions from my model:',accuracy_score(Y_predict, Y_test))\n",
    "\n",
    "if __name__ == \"__main__\":\n",
    "    main()"
   ]
  },
  {
   "cell_type": "code",
   "execution_count": null,
   "id": "3d895fa3",
   "metadata": {},
   "outputs": [],
   "source": []
  }
 ],
 "metadata": {
  "kernelspec": {
   "display_name": "Python 3 (ipykernel)",
   "language": "python",
   "name": "python3"
  },
  "language_info": {
   "codemirror_mode": {
    "name": "ipython",
    "version": 3
   },
   "file_extension": ".py",
   "mimetype": "text/x-python",
   "name": "python",
   "nbconvert_exporter": "python",
   "pygments_lexer": "ipython3",
   "version": "3.9.7"
  }
 },
 "nbformat": 4,
 "nbformat_minor": 5
}
