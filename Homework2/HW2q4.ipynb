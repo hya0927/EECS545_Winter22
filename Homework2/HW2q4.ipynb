{
 "cells": [
  {
   "cell_type": "code",
   "execution_count": 1,
   "id": "9e680b74",
   "metadata": {},
   "outputs": [],
   "source": [
    "import numpy as np\n",
    "import matplotlib.pyplot as plt\n",
    "\n",
    "def readMatrix(file):\n",
    "    # Use the code below to read files\n",
    "    fd = open(file, 'r')\n",
    "    hdr = fd.readline()\n",
    "    rows, cols = [int(s) for s in fd.readline().strip().split()]\n",
    "    tokens = fd.readline().strip().split()\n",
    "    matrix = np.zeros((rows, cols))\n",
    "    Y = []\n",
    "    for i, line in enumerate(fd):\n",
    "        nums = [int(x) for x in line.strip().split()]\n",
    "        Y.append(nums[0])\n",
    "        kv = np.array(nums[1:])\n",
    "        k = np.cumsum(kv[:-1:2])\n",
    "        v = kv[1::2]\n",
    "        matrix[i, k] = v\n",
    "    return matrix, tokens, np.array(Y)"
   ]
  },
  {
   "cell_type": "code",
   "execution_count": 136,
   "id": "12c43bb9",
   "metadata": {},
   "outputs": [
    {
     "name": "stdout",
     "output_type": "stream",
     "text": [
      "[[0. 0. 0. ... 0. 0. 0.]\n",
      " [0. 0. 0. ... 0. 0. 0.]\n",
      " [0. 0. 0. ... 0. 0. 0.]\n",
      " ...\n",
      " [0. 0. 0. ... 0. 0. 0.]\n",
      " [0. 0. 0. ... 0. 0. 0.]\n",
      " [0. 0. 0. ... 0. 0. 0.]]\n",
      "(2144, 1448)\n",
      "['abil', 'absolut', 'abus', 'access', 'accid', 'accord', 'account', 'accur', 'act', 'action', 'actual', 'ad', 'addition', 'address', 'administr', 'admit', 'adult', 'advanc', 'advantag', 'advert', 'advertis', 'advic', 'ae', 'affect', 'affili', 'afford', 'afraid', 'ag', 'against', 'agenc', 'agent', 'ago', 'agreem', 'air', 'al', 'alert', 'almost', 'alon', 'alt', 'altern', 'although', 'alwai', 'amaz', 'america', 'american', 'amherst', 'anim', 'announc', 'annual', 'anonym', 'answer', 'anti', 'anumb', 'anybodi', 'anymor', 'anyth', 'anytim', 'anywai', 'anywher', 'aol', 'apolog', 'apologi', 'appar', 'appl', 'appli', 'applic', 'appreci', 'approach', 'apr', 'april', 'area', 'aren', 'argu', 'argum', 'arial', 'arm', 'arriv', 'art', 'articl', 'associ', 'assum', 'atheist', 'attach', 'attack', 'attain', 'attempt', 'attent', 'attract', 'auction', 'author', 'auto', 'automat', 'averag', 'awai', 'awar', 'award', 'bachelor', 'background', 'backup', 'bad', 'balanc', 'bank', 'bar', 'base', 'basebal', 'basi', 'basic', 'batf', 'bb', 'beach', 'beat', 'beauti', 'becom', 'bed', 'behalf', 'behavior', 'behind', 'belief', 'believ', 'benefit', 'besid', 'best', 'bet', 'beyond', 'bibl', 'big', 'bigger', 'bike', 'bill', 'billion', 'bit', 'black', 'blank', 'block', 'blood', 'blue', 'board', 'bob', 'bodi', 'boi', 'bold', 'bonu', 'book', 'born', 'boss', 'boston', 'bother', 'bottom', 'bought', 'box', 'brain', 'branch', 'brand', 'break', 'breakthrough', 'brian', 'bring', 'broadcast', 'brother', 'brought', 'browser', 'btw', 'bu', 'budget', 'bui', 'build', 'built', 'bunch', 'burn', 'busi', 'button', 'buyer', 'ca', 'cabl', 'california', 'came', 'campaign', 'canada', 'car', 'card', 'career', 'carefulli', 'carri', 'cartridg', 'cash', 'catalog', 'catch', 'categori', 'caus', 'cb', 'cd', 'celebr', 'cell', 'cent', 'center', 'centuri', 'certain', 'certainli', 'certif', 'certifi', 'challeng', 'chanc', 'channel', 'charg', 'charset', 'cheap', 'check', 'cheer', 'child', 'children', 'chip', 'christ', 'church', 'citi', 'citizen', 'claim', 'class', 'classic', 'clean', 'clear', 'clearli', 'click', 'client', 'clinton', 'clipper', 'clock', 'close', 'club', 'cnn', 'co', 'code', 'collect', 'colleg', 'color', 'com', 'combin', 'comfort', 'command', 'comment', 'commerci', 'commit', 'common', 'commun', 'compani', 'compar', 'compat', 'compet', 'competit', 'compil', 'complet', 'complex', 'complianc', 'compound', 'comprehens', 'comput', 'concept', 'conclusion', 'condition', 'conduct', 'confer', 'confid', 'confidenti', 'configur', 'congress', 'connect', 'consist', 'consolid', 'construct', 'consult', 'consum', 'continu', 'contract', 'contribut', 'control', 'conveni', 'convent', 'convers', 'convinc', 'cool', 'copi', 'copyright', 'coral', 'corpor', 'correctli', 'cost', 'couldn', 'count', 'countri', 'coupl', 'cours', 'court', 'cover', 'coverag', 'crave', 'creat', 'creation', 'credit', 'crime', 'critic', 'cross', 'ct', 'cultur', 'cure', 'current', 'custom', 'customerservic', 'cut', 'daili', 'dailybargainmail', 'damag', 'damn', 'danger', 'data', 'databas', 'dave', 'david', 'de', 'dead', 'deal', 'dealer', 'dear', 'death', 'debt', 'decor', 'dedic', 'deep', 'defens', 'defin', 'definit', 'degre', 'delet', 'deliv', 'deliveri', 'demand', 'depend', 'deposit', 'dept', 'describ', 'descript', 'deserv', 'design', 'desir', 'destruct', 'detect', 'devic', 'di', 'did', 'didn', 'die', 'diet', 'differ', 'digit', 'diploma', 'directli', 'director', 'directori', 'disclaim', 'discount', 'discov', 'discoveri', 'diseas', 'disk', 'displai', 'distanc', 'distribut', 'division', 'doctor', 'docum', 'dod', 'doesn', 'dollar', 'domin', 'don', 'door', 'doubl', 'doubt', 'download', 'dr', 'draw', 'dream', 'drive', 'driver', 'drop', 'drug', 'dvd', 'earli', 'earn', 'earth', 'easi', 'easier', 'easiest', 'easili', 'eat', 'ebai', 'econom', 'ed', 'edg', 'edition', 'edu', 'educ', 'effort', 'eight', 'electr', 'electron', 'elimin', 'els', 'elsewher', 'em', 'email', 'emailaddr', 'employ', 'emsi', 'en', 'encourag', 'encrypt', 'end', 'energi', 'enforc', 'engin', 'england', 'enhanc', 'enjoi', 'enough', 'enterpr', 'entertain', 'entir', 'environ', 'equal', 'equip', 'equiti', 'eric', 'error', 'especi', 'essenti', 'establish', 'et', 'ethic', 'evalu', 'even', 'event', 'ever', 'everyth', 'everywher', 'evid', 'exactli', 'excel', 'exchang', 'excit', 'exclud', 'exclus', 'excus', 'execut', 'exerc', 'exist', 'expand', 'expect', 'expens', 'experi', 'experienc', 'expert', 'expir', 'explain', 'express', 'extend', 'extens', 'extra', 'extrem', 'ey', 'face', 'fact', 'factor', 'fail', 'fair', 'faith', 'fall', 'famili', 'famou', 'fan', 'faq', 'far', 'fast', 'faster', 'fastest', 'fat', 'favorit', 'fax', 'fbi', 'feder', 'fee', 'feedback', 'feel', 'field', 'fight', 'figur', 'file', 'fill', 'final', 'financ', 'financi', 'fine', 'finish', 'fire', 'firm', 'first', 'fit', 'fix', 'fl', 'flame', 'flow', 'fly', 'focu', 'folk', 'font', 'food', 'forc', 'forev', 'forget', 'form', 'format', 'formula', 'fortun', 'forward', 'frame', 'frank', 'free', 'freedom', 'fri', 'friend', 'friendli', 'front', 'frustrat', 'ftp', 'fulli', 'fun', 'function', 'fund', 'futur', 'ga', 'gain', 'game', 'gatewai', 'gave', 'gear', 'gener', 'georg', 'gift', 'girl', 'gmt', 'goal', 'god', 'goe', 'gone', 'got', 'gotten', 'govern', 'graduat', 'grant', 'graphic', 'great', 'greatest', 'greatli', 'ground', 'group', 'grow', 'growth', 'guarante', 'guess', 'gui', 'guid', 'gun', 'hacker', 'hand', 'handl', 'hang', 'happen', 'happi', 'hard', 'hardwar', 'hassl', 'hate', 'haven', 'head', 'health', 'hear', 'heard', 'heart', 'heat', 'hei', 'height', 'hell', 'hello', 'help', 'helvetica', 'hi', 'higher', 'highest', 'highli', 'highlight', 'him', 'himself', 'histori', 'hit', 'hockei', 'hold', 'holidai', 'home', 'homeown', 'honor', 'hope', 'host', 'hot', 'hous', 'hover', 'hp', 'html', 'httpaddr', 'huge', 'human', 'hundr', 'hurri', 'ibm', 'id', 'idea', 'ideal', 'identifi', 'idiot', 'ignor', 'ii', 'iii', 'illeg', 'imag', 'imagin', 'immedi', 'impli', 'import', 'imposs', 'impress', 'inc', 'inch', 'incid', 'incom', 'inconveni', 'incred', 'inde', 'independ', 'indic', 'individu', 'industri', 'info', 'inform', 'ing', 'innoc', 'input', 'instal', 'instant', 'institut', 'instruct', 'insur', 'integr', 'intellig', 'intens', 'interact', 'interfac', 'intern', 'internet', 'interpret', 'interview', 'introduc', 'introductori', 'invest', 'investig', 'investor', 'invit', 'involv', 'island', 'isn', 'iso', 'israel', 'issu', 'iti', 'jack', 'jame', 'januari', 'jesu', 'jew', 'jewish', 'jim', 'job', 'joe', 'john', 'join', 'jon', 'journal', 'judg', 'jump', 'june', 'justic', 'kei', 'keyword', 'kick', 'kid', 'kill', 'kind', 'king', 'kit', 'knew', 'knock', 'knowledg', 'koresh', 'la', 'lab', 'lack', 'land', 'languag', 'larger', 'largest', 'late', 'latest', 'launch', 'law', 'lead', 'leader', 'leagu', 'learn', 'led', 'legal', 'legitim', 'lender', 'length', 'letter', 'level', 'librari', 'licens', 'life', 'light', 'limit', 'line', 'link', 'listen', 'littl', 'live', 'll', 'lo', 'load', 'loan', 'local', 'lock', 'log', 'logic', 'longer', 'lose', 'loss', 'lost', 'lot', 'love', 'lover', 'low', 'lower', 'lowest', 'luck', 'lucki', 'ma', 'mac', 'machin', 'magazin', 'mail', 'mailbox', 'maintain', 'major', 'man', 'manag', 'manual', 'manufactur', 'map', 'march', 'mark', 'market', 'mass', 'massiv', 'master', 'match', 'matter', 'maxim', 'maximum', 'mayb', 'mb', 'mba', 'mean', 'measur', 'mechan', 'media', 'medic', 'medicin', 'meet', 'member', 'membership', 'memori', 'men', 'mention', 'merchand', 'merchant', 'mere', 'messag', 'met', 'method', 'michael', 'microsoft', 'middl', 'mike', 'mile', 'militari', 'million', 'mime', 'mind', 'mine', 'minimum', 'minor', 'minut', 'miracl', 'mirror', 'miss', 'mistak', 'mit', 'mode', 'model', 'modern', 'modifi', 'moment', 'mondai', 'monei', 'monitor', 'monthli', 'moral', 'morn', 'mortgag', 'mostli', 'mother', 'motiv', 'mount', 'movi', 'mr', 'multi', 'multipl', 'murder', 'muscl', 'music', 'muslim', 'myself', 'nashua', 'nation', 'nationwid', 'natur', 'nb', 'nearli', 'necessari', 'necessarili', 'neighbor', 'neither', 'net', 'network', 'news', 'newsgroup', 'newslett', 'newsread', 'nh', 'nice', 'night', 'nine', 'non', 'none', 'normal', 'north', 'norton', 'noth', 'notic', 'notifi', 'novemb', 'nt', 'number', 'numberd', 'numberk', 'numbermb', 'numbernd', 'numbernumb', 'numberpt', 'numberpx', 'numberrd', 'numberst', 'numberth', 'ny', 'object', 'oblig', 'observ', 'obviou', 'obvious', 'offens', 'offic', 'offici', 'oh', 'ok', 'old', 'older', 'onc', 'onlin', 'oper', 'opinion', 'opportun', 'oppos', 'oprah', 'opt', 'option', 'orbit', 'order', 'organ', 'origin', 'otherw', 'output', 'outsid', 'ov', 'overlook', 'owner', 'pack', 'packag', 'page', 'pai', 'paid', 'pain', 'paper', 'paragraph', 'parent', 'park', 'parti', 'particip', 'particularli', 'partner', 'past', 'pattern', 'paul', 'payment', 'pc', 'peac', 'peopl', 'percentag', 'perfect', 'period', 'perman', 'permiss', 'peter', 'phd', 'phone', 'physic', 'pick', 'pictur', 'piec', 'pill', 'plai', 'plain', 'plan', 'player', 'pleasant', 'pleasur', 'plenti', 'plnumber', 'plu', 'plug', 'pm', 'po', 'polic', 'polici', 'polit', 'pool', 'poor', 'popul', 'popular', 'port', 'posit', 'position', 'post', 'postal', 'potenc', 'potenti', 'pound', 'power', 'practic', 'pre', 'predict', 'premium', 'presid', 'press', 'pressur', 'pretti', 'prevent', 'previous', 'price', 'print', 'printer', 'privaci', 'privat', 'prize', 'pro', 'probabl', 'product', 'profession', 'profil', 'profit', 'program', 'progress', 'prohibit', 'project', 'promis', 'promotion', 'proof', 'proper', 'properli', 'properti', 'protect', 'prove', 'proven', 'public', 'publish', 'pull', 'purchas', 'push', 'qualif', 'qualifi', 'quantiti', 'quick', 'quickli', 'quit', 'quot', 'race', 'radiat', 'radio', 'ram', 'rang', 'rate', 're', 'reach', 'reader', 'readi', 'real', 'realiti', 'realiz', 'realli', 'reason', 'recal', 'recent', 'recipi', 'recogn', 'record', 'recur', 'red', 'reduc', 'reduct', 'refer', 'referr', 'refin', 'refinanc', 'reflect', 'refund', 'refus', 'regard', 'regardless', 'regist', 'registr', 'regul', 'regular', 'rel', 'relationship', 'releas', 'relev', 'reliabl', 'religi', 'religion', 'rem', 'remark', 'rememb', 'repair', 'repli', 'report', 'repres', 'request', 'research', 'resel', 'reserv', 'resid', 'resolut', 'resourc', 'respect', 'respond', 'respons', 'restrict', 'result', 'retail', 'reveal', 'revers', 'reward', 'rich', 'ride', 'right', 'risk', 'road', 'rock', 'roll', 'rom', 'ron', 'room', 'round', 'routin', 'rule', 'run', 'safe', 'safeti', 'sai', 'sale', 'sampl', 'san', 'satisfact', 'satisfi', 'saturdai', 'saw', 'schedul', 'scheme', 'school', 'sci', 'scienc', 'scientif', 'score', 'screen', 'se', 'seal', 'search', 'season', 'second', 'secret', 'section', 'secur', 'seek', 'self', 'sell', 'sender', 'sens', 'sensit', 'separ', 'seri', 'serif', 'seriou', 'serious', 'serv', 'server', 'servic', 'set', 'setup', 'sex', 'sexual', 'shall', 'shape', 'share', 'ship', 'shoot', 'shop', 'shot', 'shouldn', 'shut', 'sick', 'side', 'sign', 'signal', 'signatur', 'signific', 'similar', 'simpl', 'simpli', 'sincer', 'singl', 'sit', 'site', 'situat', 'six', 'size', 'skeptic', 'skill', 'skin', 'sleep', 'slow', 'smaller', 'smart', 'smith', 'smoke', 'social', 'societi', 'softwar', 'sold', 'solid', 'solution', 'solv', 'somebodi', 'someon', 'someth', 'sometim', 'somewher', 'soon', 'sorri', 'sort', 'soul', 'sound', 'sourc', 'sp', 'space', 'spam', 'spe', 'speak', 'special', 'spend', 'spent', 'sport', 'spot', 'spring', 'st', 'staff', 'stai', 'stand', 'standard', 'star', 'statem', 'station', 'statist', 'statu', 'step', 'steve', 'stick', 'stock', 'stop', 'store', 'stori', 'straight', 'strategi', 'street', 'strength', 'strong', 'strongli', 'student', 'studi', 'stuff', 'stupid', 'style', 'subject', 'submit', 'subscrib', 'subscript', 'success', 'suffer', 'suit', 'summari', 'summer', 'sun', 'sundai', 'super', 'suppli', 'suppos', 'sure', 'surpris', 'survei', 'suspect', 'sweepstak', 'switch', 'system', 'tabl', 'tal', 'talk', 'tape', 'target', 'tax', 'teach', 'team', 'tech', 'technic', 'techniqu', 'technologi', 'tel', 'telephon', 'tell', 'ten', 'tend', 'term', 'test', 'text', 'th', 'thank', 'thecompanystor', 'themselv', 'theori', 'therefor', 'third', 'though', 'thought', 'thousand', 'thread', 'throughout', 'throw', 'ti', 'ticket', 'tim', 'tip', 'tire', 'titl', 'tm', 'todai', 'told', 'toll', 'tom', 'took', 'tool', 'top', 'topic', 'toronto', 'total', 'touch', 'tough', 'toward', 'track', 'trade', 'trademark', 'tradition', 'traffic', 'trail', 'train', 'transact', 'transfer', 'travel', 'treat', 'treatment', 'tri', 'trial', 'trick', 'trip', 'troubl', 'true', 'truli', 'trust', 'truth', 'tv', 'tx', 'type', 'typic', 'ultim', 'un', 'understand', 'unfortun', 'uniqu', 'unit', 'univers', 'unix', 'unlik', 'unlimit', 'unsolicit', 'unsubscrib', 'untitl', 'updat', 'upgrad', 'upon', 'url', 'usa', 'usenet', 'user', 'usual', 'util', 'vacat', 'valet', 'valid', 'valu', 'valuabl', 'vari', 'varieti', 've', 'vehicl', 'verif', 'verifi', 'version', 'video', 'virtual', 'viru', 'vision', 'visit', 'vital', 'vnumber', 'voic', 'volum', 'vote', 'waco', 'wait', 'walk', 'wall', 'war', 'warn', 'washington', 'wasn', 'wast', 'watch', 'water', 'weapon', 'wear', 'web', 'websit', 'weekend', 'weekli', 'weight', 'welcom', 'went', 'west', 'whatev', 'wheel', 'whenev', 'white', 'whole', 'why', 'wi', 'width', 'wife', 'will', 'win', 'window', 'wing', 'winner', 'wit', 'woman', 'women', 'won', 'wonder', 'word', 'work', 'world', 'worri', 'wors', 'worth', 'wouldn', 'write', 'wrong', 'wrote', 'www', 'ye', 'yeah', 'year', 'york', 'young', 'younger', 'yourself', 'zip']\n",
      "[1 0 1 ... 0 0 1]\n",
      "(2144,)\n",
      "[[0. 0. 0. ... 0. 0. 0.]\n",
      " [0. 0. 0. ... 0. 0. 0.]\n",
      " [0. 0. 0. ... 0. 0. 0.]\n",
      " ...\n",
      " [0. 0. 0. ... 0. 0. 0.]\n",
      " [0. 3. 1. ... 0. 0. 0.]\n",
      " [0. 0. 0. ... 0. 0. 0.]]\n",
      "(800, 1448)\n",
      "[0 0 0 0 0 0 0 0 0 0 0 0 0 0 0 0 0 0 0 0 0 0 0 0 0 0 0 0 0 0 0 0 0 0 0 0 0\n",
      " 0 0 0 0 0 0 0 0 0 0 0 0 0 0 0 0 0 0 0 0 0 0 0 0 0 0 0 0 0 0 0 0 0 0 0 0 0\n",
      " 0 0 0 0 0 0 0 0 0 0 0 0 0 0 0 0 0 0 0 0 0 0 0 0 0 0 0 0 0 0 0 0 0 0 0 0 0\n",
      " 0 0 0 0 0 0 0 0 0 0 0 0 0 0 0 0 0 0 0 0 0 0 0 0 0 0 0 0 0 0 0 0 0 0 0 0 0\n",
      " 0 0 0 0 0 0 0 0 0 0 0 0 0 0 0 0 0 0 0 0 0 0 0 0 0 0 0 0 0 0 0 0 0 0 0 0 0\n",
      " 0 0 0 0 0 0 0 0 0 0 0 0 0 0 0 0 0 0 0 0 0 0 0 0 0 0 0 0 0 0 0 0 0 0 0 0 0\n",
      " 0 0 0 0 0 0 0 0 0 0 0 0 0 0 0 0 0 0 0 0 0 0 0 0 0 0 0 0 0 0 0 0 0 0 0 0 0\n",
      " 0 0 0 0 0 0 0 0 0 0 0 0 0 0 0 0 0 0 0 0 0 0 0 0 0 0 0 0 0 0 0 0 0 0 0 0 0\n",
      " 0 0 0 0 0 0 0 0 0 0 0 0 0 0 0 0 0 0 0 0 0 0 0 0 0 0 0 0 0 0 0 0 0 0 0 0 0\n",
      " 0 0 0 0 0 0 0 0 0 0 0 0 0 0 0 0 0 0 0 0 0 0 0 0 0 0 0 0 0 0 0 0 0 0 0 0 0\n",
      " 0 0 0 0 0 0 0 0 0 0 0 0 0 0 0 0 0 0 0 0 0 0 0 0 0 0 0 0 0 0 1 1 1 1 1 1 1\n",
      " 1 1 1 1 1 1 1 1 1 1 1 1 1 1 1 1 1 1 1 1 1 1 1 1 1 1 1 1 1 1 1 1 1 1 1 1 1\n",
      " 1 1 1 1 1 1 1 1 1 1 1 1 1 1 1 1 1 1 1 1 1 1 1 1 1 1 1 1 1 1 1 1 1 1 1 1 1\n",
      " 1 1 1 1 1 1 1 1 1 1 1 1 1 1 1 1 1 1 1 1 1 1 1 1 1 1 1 1 1 1 1 1 1 1 1 1 1\n",
      " 1 1 1 1 1 1 1 1 1 1 1 1 1 1 1 1 1 1 1 1 1 1 1 1 1 1 1 1 1 1 1 1 1 1 1 1 1\n",
      " 1 1 1 1 1 1 1 1 1 1 1 1 1 1 1 1 1 1 1 1 1 1 1 1 1 1 1 1 1 1 1 1 1 1 1 1 1\n",
      " 1 1 1 1 1 1 1 1 1 1 1 1 1 1 1 1 1 1 1 1 1 1 1 1 1 1 1 1 1 1 1 1 1 1 1 1 1\n",
      " 1 1 1 1 1 1 1 1 1 1 1 1 1 1 1 1 1 1 1 1 1 1 1 1 1 1 1 1 1 1 1 1 1 1 1 1 1\n",
      " 1 1 1 1 1 1 1 1 1 1 1 1 1 1 1 1 1 1 1 1 1 1 1 1 1 1 1 1 1 1 1 1 1 1 1 1 1\n",
      " 1 1 1 1 1 1 1 1 1 1 1 1 1 1 1 1 1 1 1 1 1 1 1 1 1 1 1 1 1 1 1 1 1 1 1 1 1\n",
      " 1 1 1 1 1 1 1 1 1 1 1 1 1 1 1 1 1 1 1 1 1 1 1 1 1 1 1 1 1 1 1 1 1 1 1 1 1\n",
      " 1 1 1 1 1 1 1 1 1 1 1 1 1 1 1 1 1 1 1 1 1 1 1]\n",
      "(800,)\n"
     ]
    }
   ],
   "source": [
    "dataMatrix_train, tokenlist, category_train = readMatrix('./hw2/q4_data/MATRIX.TRAIN')\n",
    "dataMatrix_test, tokenlist, category_test = readMatrix('./hw2/q4_data/MATRIX.TEST')\n",
    "\n",
    "\n",
    "print(dataMatrix_train)\n",
    "print(dataMatrix_train.shape)\n",
    "print(tokenlist)\n",
    "#print(token.shape)\n",
    "print(category_train)\n",
    "print(category_train.shape)\n",
    "\n",
    "print(dataMatrix_test)\n",
    "print(dataMatrix_test.shape)\n",
    "print(category_test)\n",
    "print(category_test.shape)"
   ]
  },
  {
   "cell_type": "code",
   "execution_count": 137,
   "id": "73ba9c04",
   "metadata": {},
   "outputs": [
    {
     "name": "stdout",
     "output_type": "stream",
     "text": [
      "0.49906716417910446\n",
      "0.00019601803365909665\n",
      "0.00048077565138423325\n"
     ]
    }
   ],
   "source": [
    "def nb_train(matrix, category):\n",
    "    # Implement your algorithm and return \n",
    "    state = {}\n",
    "    N = matrix.shape[1]\n",
    "    \n",
    "    spam = matrix[category == 1, :]\n",
    "    notspam = matrix[category == 0, :]\n",
    "    \n",
    "    length_spam = np.zeros(spam.shape[0])\n",
    "    for i in range(spam.shape[0]):\n",
    "        length_spam[i] = sum(spam[i,:])\n",
    "    \n",
    "    length_notspam = np.zeros(notspam.shape[0])\n",
    "    for i in range(notspam.shape[0]):\n",
    "        length_notspam[i] = sum(notspam[i,:])\n",
    "    \n",
    "    number_spam_token = np.zeros(spam.shape[1])\n",
    "    for i in range(spam.shape[1]):\n",
    "        number_spam_token[i] = sum(spam[:,i])\n",
    "        \n",
    "    number_notspam_token = np.zeros(notspam.shape[1])\n",
    "    for i in range(notspam.shape[1]):\n",
    "        number_notspam_token[i] = sum(notspam[:,i])\n",
    "        \n",
    "    probability_spam = spam.shape[0] / (spam.shape[0]+notspam.shape[0])\n",
    "    \n",
    "    probability_token_spam = (number_spam_token + 1) / (np.sum(length_spam) + N)\n",
    "\n",
    "    probability_token_notspam = (number_notspam_token + 1) / (np.sum(length_notspam) + N)\n",
    "    \n",
    "    probability_token_spam = np.reshape(probability_token_spam, [spam.shape[1],1])\n",
    "    \n",
    "    probability_token_notspam = np.reshape(probability_token_notspam, [notspam.shape[1],1])\n",
    "    \n",
    "    state['probability_spam:'] = probability_spam\n",
    "    state['probability_token_spam:'] = probability_token_spam\n",
    "    state['probability_token_notspam:'] = probability_token_notspam\n",
    "    #return state, number_spam_token, number_notspam_token\n",
    "    return state\n",
    "\n",
    "#state, number_spam_token, number_notspam_token = nb_train(dataMatrix_train, category_train)\n",
    "state = nb_train(dataMatrix_train, category_train)\n",
    "\n",
    "print(state['probability_spam:'])\n",
    "print(state['probability_token_spam:'][30,0])\n",
    "print(state['probability_token_notspam:'][30,0])\n",
    "#print(number_spam_token[0])\n",
    "#print(number_notspam_token[0])"
   ]
  },
  {
   "cell_type": "code",
   "execution_count": 188,
   "id": "eb3bea70",
   "metadata": {},
   "outputs": [],
   "source": [
    "def nb_test(matrix, state):\n",
    "    # Classify each email in the test set (each row of the document matrix) as 1 for SPAM and 0 for NON-SPAM\n",
    "    output = np.zeros(matrix.shape[0])\n",
    "    \n",
    "    ############################\n",
    "    # Implement your code here #\n",
    "    ############################\n",
    "    \n",
    "    log_probability_token_spam = np.log(state['probability_token_spam:'].T)\n",
    "    \n",
    "    number_spam_times_log = np.sum(log_probability_token_spam*matrix, axis = 1)\n",
    "    \n",
    "    log_probability_token_notspam = np.log(state['probability_token_notspam:'].T)\n",
    "    \n",
    "    number_notspam_times_log = np.sum(log_probability_token_notspam*matrix, axis = 1)\n",
    "    \n",
    "    log_probability_spam = np.log(state['probability_spam:'])\n",
    "    \n",
    "    print(log_probability_token_spam[0,655])\n",
    "    \n",
    "    log_probability_notspam = np.log(1 - state['probability_spam:'])\n",
    "    print(number_notspam_times_log[655])\n",
    "    print(number_spam_times_log[655])\n",
    "    \n",
    "    print(log_probability_token_notspam[0,655])\n",
    "    \n",
    "    spam_divide_notspam = np.exp(number_spam_times_log + log_probability_spam - number_notspam_times_log - log_probability_notspam)\n",
    "    \n",
    "    #prob = 1/ (1 + spam_divide_notspam)\n",
    "    #prob = np.reshape(prob, [matrix.shape[0], 1])\n",
    "    spam_divide_notspam = np.reshape(spam_divide_notspam, [matrix.shape[0], 1])\n",
    "    for i in range(matrix.shape[0]):\n",
    "        if (spam_divide_notspam[i,0] >= 1):\n",
    "            output[i] = 1\n",
    "        else:\n",
    "            output[i] = 0\n",
    "    \n",
    "    return output\n",
    "\n",
    "#aaa = nb_test(dataMatrix_test, state)"
   ]
  },
  {
   "cell_type": "code",
   "execution_count": 175,
   "id": "78ce6193",
   "metadata": {},
   "outputs": [],
   "source": [
    "def evaluate(output, label):\n",
    "    # Use the code below to obtain the accuracy of your algorithm\n",
    "    error = (output != label).sum() * 1. / len(output)\n",
    "    print('Error: {:2.4f}%'.format(100*error))\n",
    "    for i in range(output.shape[0]):\n",
    "        if (output[i] != label[i]):\n",
    "            print(i)\n",
    "    return error\n"
   ]
  },
  {
   "cell_type": "code",
   "execution_count": 160,
   "id": "040a3513",
   "metadata": {},
   "outputs": [
    {
     "name": "stdout",
     "output_type": "stream",
     "text": [
      "Error: 1.6250%\n",
      "13.0\n"
     ]
    },
    {
     "data": {
      "text/plain": [
       "0.01625"
      ]
     },
     "execution_count": 160,
     "metadata": {},
     "output_type": "execute_result"
    }
   ],
   "source": [
    "state = nb_train(dataMatrix_train, category_train)\n",
    "\n",
    "    # Test and evluate\n",
    "prediction = nb_test(dataMatrix_test, state)\n",
    "evaluate(prediction, category_test)"
   ]
  },
  {
   "cell_type": "code",
   "execution_count": 161,
   "id": "a6c6310f",
   "metadata": {},
   "outputs": [
    {
     "name": "stdout",
     "output_type": "stream",
     "text": [
      "[-6.15890582]\n",
      "[-10.81134281]\n",
      "[[0.00013125]\n",
      " [0.00081666]\n",
      " [0.00016042]\n",
      " ...\n",
      " [0.00039375]\n",
      " [0.00304789]\n",
      " [0.00011667]]\n",
      "[[1.81524808e-04]\n",
      " [5.24405002e-04]\n",
      " [1.61355385e-04]\n",
      " ...\n",
      " [4.03388463e-05]\n",
      " [5.44574425e-04]\n",
      " [1.21016539e-04]]\n"
     ]
    }
   ],
   "source": [
    "print(np.log(state['probability_token_spam:'][1368,:]))\n",
    "print(np.log(state['probability_token_notspam:'][1368,:]))\n",
    "print(state['probability_token_spam:'])\n",
    "print(state['probability_token_notspam:'])\n",
    "#print(np.log(state['probability_token_spam:']) - np.log(state['probability_token_notspam:']))\n",
    "#state['probability_spam:']/(state['probability_notspam:']"
   ]
  },
  {
   "cell_type": "code",
   "execution_count": 162,
   "id": "ac7658fb",
   "metadata": {},
   "outputs": [
    {
     "name": "stdout",
     "output_type": "stream",
     "text": [
      "[1368  393 1356  615 1209]\n"
     ]
    }
   ],
   "source": [
    "sort_prob_token = np.argsort(np.log(state['probability_token_spam:'][:,0]) - np.log(state['probability_token_notspam:'][:,0]))\n",
    "\n",
    "print(sort_prob_token[-5:])"
   ]
  },
  {
   "cell_type": "code",
   "execution_count": 163,
   "id": "40c49e4f",
   "metadata": {},
   "outputs": [
    {
     "data": {
      "text/plain": [
       "array(['valet', 'ebai', 'unsubscrib', 'httpaddr', 'spam'], dtype='<U16')"
      ]
     },
     "execution_count": 163,
     "metadata": {},
     "output_type": "execute_result"
    }
   ],
   "source": [
    "tokenlist = np.array(tokenlist)\n",
    "tokenlist[sort_prob_token[-5:]]"
   ]
  },
  {
   "cell_type": "code",
   "execution_count": 189,
   "id": "3f75a39f",
   "metadata": {},
   "outputs": [
    {
     "name": "stdout",
     "output_type": "stream",
     "text": [
      "MATRIX.TRAIN.50\n",
      "-8.46674164792014\n",
      "-244.21073510356035\n",
      "-244.30387379888703\n",
      "-6.742880635791903\n",
      "Error: 3.8750%\n",
      "6\n",
      "7\n",
      "73\n",
      "126\n",
      "151\n",
      "175\n",
      "178\n",
      "193\n",
      "205\n",
      "207\n",
      "208\n",
      "281\n",
      "290\n",
      "305\n",
      "307\n",
      "314\n",
      "320\n",
      "327\n",
      "354\n",
      "363\n",
      "424\n",
      "454\n",
      "465\n",
      "490\n",
      "492\n",
      "494\n",
      "496\n",
      "582\n",
      "681\n",
      "682\n",
      "685\n"
     ]
    }
   ],
   "source": [
    "#train_sizes = np.array([50, 100, 200, 400, 800, 1400])\n",
    "\n",
    "train_sizes = np.array([50])\n",
    "errors = np.ones(train_sizes.shape)\n",
    "for i,train_size in enumerate(train_sizes):\n",
    "    dataMatrix_train, tokenlist, category_train = readMatrix('./hw2/q4_data/MATRIX.TRAIN.'+str(train_size))\n",
    "    state = nb_train(dataMatrix_train, category_train)\n",
    "    print('MATRIX.TRAIN.'+str(train_size))\n",
    "    prediction = nb_test(dataMatrix_test, state)\n",
    "    errors[i] = evaluate(prediction, category_test)"
   ]
  },
  {
   "cell_type": "code",
   "execution_count": 174,
   "id": "6b9471ac",
   "metadata": {},
   "outputs": [
    {
     "data": {
      "image/png": "[encoded data removed]",
      "text/plain": [
       "<Figure size 432x288 with 1 Axes>"
      ]
     },
     "metadata": {
      "needs_background": "light"
     },
     "output_type": "display_data"
    }
   ],
   "source": [
    "plt.plot(train_sizes,errors*100);\n",
    "plt.xlabel('Training Size');\n",
    "plt.ylabel('Test Error (%)');"
   ]
  },
  {
   "cell_type": "code",
   "execution_count": null,
   "id": "8d42e40d",
   "metadata": {},
   "outputs": [],
   "source": []
  }
 ],
 "metadata": {
  "kernelspec": {
   "display_name": "Python 3 (ipykernel)",
   "language": "python",
   "name": "python3"
  },
  "language_info": {
   "codemirror_mode": {
    "name": "ipython",
    "version": 3
   },
   "file_extension": ".py",
   "mimetype": "text/x-python",
   "name": "python",
   "nbconvert_exporter": "python",
   "pygments_lexer": "ipython3",
   "version": "3.9.7"
  }
 },
 "nbformat": 4,
 "nbformat_minor": 5
}
