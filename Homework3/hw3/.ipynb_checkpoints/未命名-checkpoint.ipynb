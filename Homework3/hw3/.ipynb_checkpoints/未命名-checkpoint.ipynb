{
 "cells": [
  {
   "cell_type": "code",
   "execution_count": 1,
   "id": "9f68c24e",
   "metadata": {},
   "outputs": [],
   "source": [
    "import numpy as np\n",
    "import matplotlib.pyplot as plt\n",
    "from sklearn.svm import LinearSVC"
   ]
  },
  {
   "cell_type": "code",
   "execution_count": 2,
   "id": "8bb8c934",
   "metadata": {},
   "outputs": [],
   "source": [
    "np.random.seed(545)"
   ]
  },
  {
   "cell_type": "code",
   "execution_count": 3,
   "id": "f2f62dff",
   "metadata": {},
   "outputs": [],
   "source": [
    "def readMatrix(filename: str):\n",
    "    # Use the code below to read files\n",
    "    with open(filename, 'r') as fd:\n",
    "        hdr = fd.readline()\n",
    "        rows, cols = [int(s) for s in fd.readline().strip().split()]\n",
    "        tokens = fd.readline().strip().split()\n",
    "        matrix = np.zeros((rows, cols))\n",
    "        Y = []\n",
    "        for i, line in enumerate(fd):\n",
    "            nums = [int(x) for x in line.strip().split()]\n",
    "            Y.append(nums[0])\n",
    "            kv = np.array(nums[1:])\n",
    "            k = np.cumsum(kv[:-1:2])\n",
    "            v = kv[1::2]\n",
    "            matrix[i, k] = v\n",
    "        return matrix, tokens, np.array(Y)"
   ]
  },
  {
   "cell_type": "code",
   "execution_count": 4,
   "id": "c36187d3",
   "metadata": {},
   "outputs": [],
   "source": [
    "def evaluate(output, label) -> float:\n",
    "    # Use the code below to obtain the accuracy of your algorithm\n",
    "    error = float((output != label).sum()) * 1. / len(output)\n",
    "    print('Error: {:2.4f}%'.format(100 * error))\n",
    "\n",
    "    return error"
   ]
  },
  {
   "cell_type": "code",
   "execution_count": 14,
   "id": "043314ac",
   "metadata": {},
   "outputs": [
    {
     "name": "stderr",
     "output_type": "stream",
     "text": [
      "/Users/huangyuang/opt/anaconda3/lib/python3.9/site-packages/sklearn/svm/_base.py:985: ConvergenceWarning: Liblinear failed to converge, increase the number of iterations.\n",
      "  warnings.warn(\"Liblinear failed to converge, increase \"\n"
     ]
    },
    {
     "name": "stdout",
     "output_type": "stream",
     "text": [
      "Error: 0.3750%\n",
      "MATRIX.TRAIN.50\n",
      "Error: 5.0000%\n",
      "MATRIX.TRAIN.100\n",
      "Error: 3.0000%\n",
      "MATRIX.TRAIN.200\n",
      "Error: 1.2500%\n",
      "MATRIX.TRAIN.400\n",
      "Error: 1.0000%\n",
      "MATRIX.TRAIN.800\n",
      "Error: 1.0000%\n",
      "MATRIX.TRAIN.1400\n",
      "Error: 0.8750%\n"
     ]
    },
    {
     "data": {
      "image/png": "[encoded data removed]",
      "text/plain": [
       "<Figure size 432x288 with 1 Axes>"
      ]
     },
     "metadata": {
      "needs_background": "light"
     },
     "output_type": "display_data"
    }
   ],
   "source": [
    "def main():\n",
    "    # Load files\n",
    "    # Note 1: tokenlists (list of all tokens) from MATRIX.TRAIN and MATRIX.TEST are identical\n",
    "    # Note 2: Spam emails are denoted as class 1, and non-spam ones as class 0.\n",
    "    dataMatrix_train, tokenlist, category_train = readMatrix('q5_data/MATRIX.TRAIN')\n",
    "    dataMatrix_test, tokenlist, category_test = readMatrix('q5_data/MATRIX.TEST')\n",
    "\n",
    "    # Train\n",
    "    svm = LinearSVC(C = 1, loss = \"squared_hinge\")\n",
    "    svm.fit(dataMatrix_train, category_train)\n",
    "\n",
    "    # Test and evluate\n",
    "    h = np.dot(dataMatrix_test, svm.coef_.T) + svm.intercept_\n",
    "    prediction = np.ones(dataMatrix_test.shape[0]) \n",
    "    for i in range(dataMatrix_test.shape[0]):\n",
    "        if(h[i, 0] >= 0):\n",
    "            prediction[i] = 1\n",
    "        else:\n",
    "            prediction[i] = 0\n",
    "    evaluate(prediction, category_test)\n",
    "\n",
    "    train_sizes = np.array([50, 100, 200, 400, 800, 1400])\n",
    "\n",
    "    #train_sizes = np.array([50])\n",
    "    errors = np.ones(train_sizes.shape)\n",
    "    for i,train_size in enumerate(train_sizes):\n",
    "        dataMatrix_train, tokenlist, category_train = readMatrix('q5_data/MATRIX.TRAIN.'+str(train_size))\n",
    "        svm = LinearSVC(C = 1, loss = \"squared_hinge\")\n",
    "        svm.fit(dataMatrix_train, category_train)\n",
    "        print('MATRIX.TRAIN.'+str(train_size))\n",
    "        h = np.dot(dataMatrix_test, svm.coef_.T) + svm.intercept_\n",
    "        prediction = np.ones(dataMatrix_test.shape[0]) \n",
    "        for j in range(dataMatrix_test.shape[0]):\n",
    "            if(h[j, 0] >= 0):\n",
    "                prediction[j] = 1\n",
    "            else:\n",
    "                prediction[j] = 0\n",
    "        margin = category_test*h\n",
    "        number_of_vector = 0\n",
    "        for k in range(dataMatrix_test.shape[0]):\n",
    "            if(margin[k, 0] >= 0):\n",
    "                number_of_vector = number_of_vector + 1 \n",
    "        errors[i] = evaluate(prediction, category_test)\n",
    "        \n",
    "    plt.plot(train_sizes,errors*100)\n",
    "    plt.xlabel('Training Size')\n",
    "    plt.ylabel('Test Error (%)')\n",
    "    plt.savefig('result.png')\n",
    "\n",
    "if __name__ == '__main__':\n",
    "    main()"
   ]
  },
  {
   "cell_type": "code",
   "execution_count": null,
   "id": "473c7a51",
   "metadata": {},
   "outputs": [],
   "source": []
  }
 ],
 "metadata": {
  "kernelspec": {
   "display_name": "Python 3 (ipykernel)",
   "language": "python",
   "name": "python3"
  },
  "language_info": {
   "codemirror_mode": {
    "name": "ipython",
    "version": 3
   },
   "file_extension": ".py",
   "mimetype": "text/x-python",
   "name": "python",
   "nbconvert_exporter": "python",
   "pygments_lexer": "ipython3",
   "version": "3.9.7"
  }
 },
 "nbformat": 4,
 "nbformat_minor": 5
}
